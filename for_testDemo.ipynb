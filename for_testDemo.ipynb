{
 "cells": [
  {
   "cell_type": "code",
   "execution_count": 7,
   "metadata": {},
   "outputs": [
    {
     "name": "stdout",
     "output_type": "stream",
     "text": [
      "http://gs.amac.org.cn/amac-infodisc/api/pof/fund?rand=0.6744496335202119&size=100&page=0\n"
     ]
    }
   ],
   "source": [
    "import random\n",
    "\n",
    "r = str(random.uniform(0, 1))\n",
    "page = str(0)\n",
    "size = str(100)\n",
    "post_url_prefix = 'http://gs.amac.org.cn/amac-infodisc/api/pof/{}?rand={}&size={}'.format('fund', r, size)\n",
    "post_url = post_url_prefix + '&page={}'.format(page)\n",
    "\n",
    "print(post_url)"
   ]
  },
  {
   "cell_type": "markdown",
   "metadata": {},
   "source": [
    "this/A is/A a/A student/B book/B whose/B name/C is/C a/C english/D name/D\n",
    "\n",
    "这是一个字符串, 然后输出一个字典 {'A':'this is a ','B':'student book whose',.....}"
   ]
  },
  {
   "cell_type": "code",
   "execution_count": 8,
   "metadata": {},
   "outputs": [
    {
     "name": "stdout",
     "output_type": "stream",
     "text": [
      "{'A': 'this is a', 'B': 'student book whose', 'C': 'name is a', 'D': 'english name'}\n"
     ]
    }
   ],
   "source": [
    "import sys\n",
    "\n",
    "myStr = \"this/A is/A a/A student/B book/B whose/B name/C is/C a/C english/D name/D\"\n",
    "inList = myStr.split()\n",
    "resDict= {}\n",
    "\n",
    "for str in inList:\n",
    "    resStr, flag = str.split('/')\n",
    "    if flag in resDict:\n",
    "        resDict[flag] += ' ' + resStr\n",
    "    else:\n",
    "        resDict[flag] = resStr\n",
    "print(resDict)"
   ]
  },
  {
   "cell_type": "code",
   "execution_count": 2,
   "metadata": {},
   "outputs": [
    {
     "name": "stdout",
     "output_type": "stream",
     "text": [
      "+----+---------+----------+--------------+------------+------------+\n",
      "|    | 0       | 1        | 2            | 3          | 4          |\n",
      "+----+---------+----------+--------------+------------+------------+\n",
      "| 0  | 00qweqe | 01       | 02           | 03aaaaaaaa | 04bbbbbbbb |\n",
      "| 1  | 10      | 11sdsdsd |              |            |            |\n",
      "| 2  | 20      | 21       | 22sadadadaad |            |            |\n",
      "+----+---------+----------+--------------+------------+------------+\n"
     ]
    }
   ],
   "source": [
    "l = [\n",
    "    ['00qweqe','01','02','03aaaaaaaa','04bbbbbbbb'],\n",
    "    ['10','11sdsdsd'],\n",
    "    ['20','21','22sadadadaad']\n",
    "]\n",
    "\n",
    "col_len_Dict = {}\n",
    "col_index_List = []\n",
    "col_len_List = []\n",
    "\n",
    "def get_col_len():\n",
    "    global l    \n",
    "    global col_len_Dict\n",
    "    global col_index_List\n",
    "    global col_len_List\n",
    "\n",
    "    for i in range(len(l)):\n",
    "        for j in range(len(l[i])):\n",
    "            if j in col_len_Dict:\n",
    "                col_len_Dict[j] = max(col_len_Dict[j], len(l[i][j]))\n",
    "            else:\n",
    "                col_len_Dict[j] = len(l[i][j])\n",
    "    \n",
    "    col_index_List = list(col_len_Dict.keys())\n",
    "    col_len_List = list(col_len_Dict.values())\n",
    "\n",
    "\n",
    "def draw_line():\n",
    "    global col_len_List\n",
    "    print('+', end='')\n",
    "    print('-'*(2+2), end='+')\n",
    "    for col_len in col_len_List:\n",
    "        print('-'*(col_len+2), end='+')\n",
    "    print()\n",
    "\n",
    "def draw_table_head():\n",
    "    global col_index_List\n",
    "    global col_len_List\n",
    "    print('|', end='')    \n",
    "    box_str = []\n",
    "    box_str.append(' '*(2+2))\n",
    "    for i in range(len(col_index_List)):\n",
    "        box_str.append(f' {col_index_List[i]}' + ' '*(col_len_List[i]+2-2))\n",
    "    for box in box_str:\n",
    "        print(box,end='|')\n",
    "    print()\n",
    "\n",
    "def draw_table_cont():\n",
    "    global l\n",
    "    global col_index_List\n",
    "    global col_len_List\n",
    " \n",
    "\n",
    "    for i in range(len(l)):\n",
    "        print('|', end='') \n",
    "        box_str = []\n",
    "        line_index = i\n",
    "        box_str.append(f' {line_index}' + ' '*(2+2-2))\n",
    "        \n",
    "        for j in range(len(l[i])):\n",
    "            box_str.append(f' {l[i][j]}' + ' '*(col_len_List[j]+2-1-len(l[i][j])))\n",
    "        diff_boxs = len(col_index_List) - len(l[i])\n",
    "        for diff_index in range(len(l[i]), len(l[i])+diff_boxs):\n",
    "            box_str.append(' '*(col_len_List[diff_index]+2))\n",
    "    \n",
    "        for box in box_str:\n",
    "            print(box,end='|')\n",
    "        print()\n",
    "\n",
    "\n",
    "get_col_len()\n",
    "\n",
    "draw_line()\n",
    "draw_table_head()\n",
    "draw_line()\n",
    "draw_table_cont()\n",
    "draw_line()\n"
   ]
  },
  {
   "cell_type": "code",
   "execution_count": 4,
   "metadata": {},
   "outputs": [
    {
     "name": "stdout",
     "output_type": "stream",
     "text": [
      "+----+---------+----------+-----------------------------+------------+------------+\n",
      "|    | 0       | 1        | 2                           | 3          | 4          |\n",
      "+----+---------+----------+-----------------------------+------------+------------+\n",
      "| 0  | 00qweqe | 01       | 02                          | 03aaaaaaaa | 04bbbbbbbb |\n",
      "| 1  | 10      | 11sdsdsd | khj1luik,hkjjsahfkhbubnnnjs |            |            |\n",
      "| 2  | 10      | 11sdsdsd | khj1luik,hkjjsahfkhbubnnnjs |            |            |\n",
      "| 3  | 20      | 21       | 22sadadadaad                |            |            |\n",
      "+----+---------+----------+-----------------------------+------------+------------+\n"
     ]
    }
   ],
   "source": [
    "class TableDrawer:\n",
    "    def __init__(self, data):\n",
    "        self.l = data\n",
    "        self.col_len_Dict = {}\n",
    "        self.col_index_List = []\n",
    "        self.col_len_List = []\n",
    "        self.get_col_len()\n",
    "\n",
    "    def get_col_len(self):\n",
    "        for i in range(len(self.l)):\n",
    "            for j in range(len(self.l[i])):\n",
    "                if j in self.col_len_Dict:\n",
    "                    self.col_len_Dict[j] = max(self.col_len_Dict[j], len(self.l[i][j]))\n",
    "                else:\n",
    "                    self.col_len_Dict[j] = len(self.l[i][j])\n",
    "\n",
    "        self.col_index_List = list(self.col_len_Dict.keys())\n",
    "        self.col_len_List = list(self.col_len_Dict.values())\n",
    "\n",
    "    def draw_line(self):\n",
    "        print('+', end='')\n",
    "        print('-' * (2 + 2), end='+')\n",
    "        for col_len in self.col_len_List:\n",
    "            print('-' * (col_len + 2), end='+')\n",
    "        print()\n",
    "\n",
    "    def draw_table_head(self):\n",
    "        print('|', end='')\n",
    "        box_str = []\n",
    "        box_str.append(' ' * (2 + 2))\n",
    "        for i in range(len(self.col_index_List)):\n",
    "            box_str.append(f' {self.col_index_List[i]}' + ' ' * (self.col_len_List[i] + 2 - 2))\n",
    "        for box in box_str:\n",
    "            print(box, end='|')\n",
    "        print()\n",
    "\n",
    "    def draw_table_cont(self):\n",
    "        for i in range(len(self.l)):\n",
    "            print('|', end='')\n",
    "            box_str = []\n",
    "            line_index = i\n",
    "            box_str.append(f' {line_index}' + ' ' * (2 + 2 - 2))\n",
    "\n",
    "            for j in range(len(self.l[i])):\n",
    "                box_str.append(f' {self.l[i][j]}' + ' ' * (self.col_len_List[j] + 2 - 1 - len(self.l[i][j])))\n",
    "            diff_boxs = len(self.col_index_List) - len(self.l[i])\n",
    "            for diff_index in range(len(self.l[i]), len(self.l[i]) + diff_boxs):\n",
    "                box_str.append(' ' * (self.col_len_List[diff_index] + 2))\n",
    "\n",
    "            for box in box_str:\n",
    "                print(box, end='|')\n",
    "            print()\n",
    "\n",
    "    def draw_table(self):\n",
    "        self.draw_line()\n",
    "        self.draw_table_head()\n",
    "        self.draw_line()\n",
    "        self.draw_table_cont()\n",
    "        self.draw_line()\n",
    "\n",
    "\n",
    "data = [\n",
    "    ['00qweqe', '01', '02', '03aaaaaaaa', '04bbbbbbbb'],\n",
    "    ['10', '11sdsdsd','khj1luik,hkjjsahfkhbubnnnjs'],\n",
    "    ['10', '11sdsdsd','khj1luik,hkjjsahfkhbubnnnjs'],\n",
    "    ['20', '21', '22sadadadaad']\n",
    "]\n",
    "\n",
    "table_drawer = TableDrawer(data)\n",
    "table_drawer.draw_table()\n",
    "\n"
   ]
  }
 ],
 "metadata": {
  "kernelspec": {
   "display_name": "base",
   "language": "python",
   "name": "python3"
  },
  "language_info": {
   "codemirror_mode": {
    "name": "ipython",
    "version": 3
   },
   "file_extension": ".py",
   "mimetype": "text/x-python",
   "name": "python",
   "nbconvert_exporter": "python",
   "pygments_lexer": "ipython3",
   "version": "3.7.10"
  },
  "orig_nbformat": 4
 },
 "nbformat": 4,
 "nbformat_minor": 2
}
